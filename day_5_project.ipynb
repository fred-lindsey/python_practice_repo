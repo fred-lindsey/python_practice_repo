{
 "cells": [
  {
   "cell_type": "code",
   "execution_count": 1,
   "metadata": {},
   "outputs": [
    {
     "name": "stdout",
     "output_type": "stream",
     "text": [
      "apple\n",
      "peach\n",
      "pear\n"
     ]
    }
   ],
   "source": [
    "# For loop refresher, Range, Code Blocks\n",
    "fruits = ['apple', 'peach', 'pear']\n",
    "\n",
    "for fruit in fruits:\n",
    "    print(fruit)"
   ]
  },
  {
   "cell_type": "code",
   "execution_count": 11,
   "metadata": {},
   "outputs": [],
   "source": [
    "# AVERAGE HEIGHT\n",
    "# write a program that calculates average height from a list of student heights:\n",
    "\n",
    "def avg_height():\n",
    "    student_heights = input(\"Input a list of student heights \").split()\n",
    "\n",
    "    total_height = 0\n",
    "    number_of_students = 0\n",
    "    \n",
    "    for n in range(0, len(student_heights)):\n",
    "        student_heights[n] = int(student_heights[n])\n",
    "\n",
    "    for height in student_heights:\n",
    "        total_height += height\n",
    "        \n",
    "    for student in student_heights:\n",
    "        number_of_students += 1\n",
    "\n",
    "    average_height = total_height//number_of_students\n",
    "\n",
    "    return (print(f\"The student heights are {student_heights},\\n the number of students is {number_of_students}, \\n and the average student is {average_height} cm tall\"))\n"
   ]
  },
  {
   "cell_type": "code",
   "execution_count": 13,
   "metadata": {},
   "outputs": [
    {
     "name": "stdout",
     "output_type": "stream",
     "text": [
      "The student heights are [177, 157, 145, 146, 145, 197, 166, 143, 156],\n",
      " the number of students is 9, \n",
      " and the average student is 159 cm tall\n"
     ]
    }
   ],
   "source": [
    "avg_height()"
   ]
  },
  {
   "cell_type": "code",
   "execution_count": 66,
   "metadata": {},
   "outputs": [],
   "source": [
    "def avg_height_v2():\n",
    "    user_entered_heights = input(\"Enter student heights in CM, with a space between: \").split()\n",
    "    # Use the evaluate method to convert the heights into integers\n",
    "    student_heights = [eval(height) for height in user_entered_heights]\n",
    "    num_students = len(student_heights)\n",
    "    total_height = sum(student_heights)\n",
    "    avg_height = total_height/num_students\n",
    "    return print(f\"Num students is {num_students}, \\n heights are {student_heights}, \\n average height is {avg_height}\")\n"
   ]
  },
  {
   "cell_type": "code",
   "execution_count": 67,
   "metadata": {},
   "outputs": [
    {
     "name": "stdout",
     "output_type": "stream",
     "text": [
      "Num students is 3, \n",
      " heights are [175, 154, 133], \n",
      " average height is 154.0\n"
     ]
    }
   ],
   "source": [
    "avg_height_v2()"
   ]
  },
  {
   "cell_type": "code",
   "execution_count": null,
   "metadata": {},
   "outputs": [],
   "source": [
    "## Highest score"
   ]
  }
 ],
 "metadata": {
  "kernelspec": {
   "display_name": "Python 3.9.7 ('base')",
   "language": "python",
   "name": "python3"
  },
  "language_info": {
   "codemirror_mode": {
    "name": "ipython",
    "version": 3
   },
   "file_extension": ".py",
   "mimetype": "text/x-python",
   "name": "python",
   "nbconvert_exporter": "python",
   "pygments_lexer": "ipython3",
   "version": "3.9.7"
  },
  "orig_nbformat": 4,
  "vscode": {
   "interpreter": {
    "hash": "38cca0c38332a56087b24af0bc80247f4fced29cb4f7f437d91dc159adec9c4e"
   }
  }
 },
 "nbformat": 4,
 "nbformat_minor": 2
}
