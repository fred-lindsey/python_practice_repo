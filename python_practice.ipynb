{
 "cells": [
  {
   "cell_type": "code",
   "execution_count": null,
   "metadata": {},
   "outputs": [],
   "source": [
    "# using a for loop\n",
    "def twoNumberSum(array, targetSum):\n",
    "    \n",
    "    for i in range(len(array) - 1):\n",
    "    #run all the way through the array, until before the last value. posiitonal argument for i\n",
    "        numA = array[i]\n",
    "        for j in range(i+1, len(array)):\n",
    "        #run all the way through the array, including the last value. pos argument for j\n",
    "            numB = array[j]\n",
    "            if numA + numB == targetSum:\n",
    "                return [numA, numB]\n",
    "    return []\n",
    "\n",
    "\n",
    "#using a hash table instead of two for loops (python dictionary)\n",
    "def twoNumberSum(array, targetSum):\n",
    "    #create an empty list that will contain the second number required to fulfill\n",
    "    # the target sum, given the first number from the array\n",
    "    complementArray = {}\n",
    "    for num in array:\n",
    "        # create a variable for the matching sum, that added to num yields the targetSum\n",
    "        match = targetSum - num\n",
    "        if match in complementArray:\n",
    "            return [targetSum - num, num]\n",
    "        else:\n",
    "            # otherwise add the number into the hash table for storage\n",
    "            complementArray[num] = True\n",
    "    return []"
   ]
  }
 ],
 "metadata": {
  "kernelspec": {
   "display_name": "Python 3.9.7 ('base')",
   "language": "python",
   "name": "python3"
  },
  "language_info": {
   "name": "python",
   "version": "3.9.7"
  },
  "orig_nbformat": 4,
  "vscode": {
   "interpreter": {
    "hash": "38cca0c38332a56087b24af0bc80247f4fced29cb4f7f437d91dc159adec9c4e"
   }
  }
 },
 "nbformat": 4,
 "nbformat_minor": 2
}
