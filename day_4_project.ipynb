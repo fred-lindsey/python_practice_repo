{
 "cells": [
  {
   "cell_type": "code",
   "execution_count": 1,
   "metadata": {},
   "outputs": [],
   "source": [
    "# Nested Lists\n",
    "fruits = [\"apples\", \"strawberries\", \"grapes\"]\n",
    "veggies = [\"carrots\", \"spinach\", \"zucchini\"]\n",
    "fruits_and_veggies = [fruits, veggies]"
   ]
  },
  {
   "cell_type": "code",
   "execution_count": 2,
   "metadata": {},
   "outputs": [
    {
     "data": {
      "text/plain": [
       "[['apples', 'strawberries', 'grapes'], ['carrots', 'spinach', 'zucchini']]"
      ]
     },
     "execution_count": 2,
     "metadata": {},
     "output_type": "execute_result"
    }
   ],
   "source": [
    "fruits_and_veggies"
   ]
  },
  {
   "cell_type": "code",
   "execution_count": 3,
   "metadata": {},
   "outputs": [
    {
     "data": {
      "text/plain": [
       "'spinach'"
      ]
     },
     "execution_count": 3,
     "metadata": {},
     "output_type": "execute_result"
    }
   ],
   "source": [
    "fruits_and_veggies[1][1]"
   ]
  },
  {
   "cell_type": "code",
   "execution_count": 8,
   "metadata": {},
   "outputs": [],
   "source": [
    "# Rock, Paper, Scissors Game\n",
    "def RockPaperScissors():\n",
    "    #import the random module\n",
    "    import random\n",
    "    # build the user choices\n",
    "    choices = ['rock', 'paper', 'scissors']\n",
    "    rankings = ['rock' < 'paper', 'rock' > 'scissors', 'scissors' > 'paper', 'scissors' < 'rock']\n",
    "    while True:\n",
    "        # user prompt\n",
    "        print('Make your throw')\n",
    "        #create the input field\n",
    "        user_choice = input(\"Type rock, paper, or scissors: \")\n",
    "        # build the loop for user input:\n",
    "        if user_choice in choices:\n",
    "            computer_choice = random.choice(choices)\n",
    "            print(f\"You chose {user_choice}, and the computer chose {computer_choice}\")\n",
    "            if user_choice > computer_choice:\n",
    "                print(\"Your opponent won\")\n",
    "            else:\n",
    "                print(\"You won!\")\n",
    "        else:\n",
    "            print(\"Please choose from rock, paper, or scissors\")\n",
    "        proceed = input(\"\\nWould you like to proceed? (y/n): \")\n",
    "        if proceed.lower == 'n':\n",
    "            break\n",
    "        print()\n",
    "    print(\"\\nGoodbye\")"
   ]
  },
  {
   "cell_type": "code",
   "execution_count": null,
   "metadata": {},
   "outputs": [],
   "source": []
  },
  {
   "cell_type": "code",
   "execution_count": null,
   "metadata": {},
   "outputs": [],
   "source": []
  }
 ],
 "metadata": {
  "kernelspec": {
   "display_name": "Python 3.9.7 ('base')",
   "language": "python",
   "name": "python3"
  },
  "language_info": {
   "codemirror_mode": {
    "name": "ipython",
    "version": 3
   },
   "file_extension": ".py",
   "mimetype": "text/x-python",
   "name": "python",
   "nbconvert_exporter": "python",
   "pygments_lexer": "ipython3",
   "version": "3.9.7"
  },
  "orig_nbformat": 4,
  "vscode": {
   "interpreter": {
    "hash": "38cca0c38332a56087b24af0bc80247f4fced29cb4f7f437d91dc159adec9c4e"
   }
  }
 },
 "nbformat": 4,
 "nbformat_minor": 2
}
